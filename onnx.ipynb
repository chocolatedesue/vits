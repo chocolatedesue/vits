{
 "cells": [
  {
   "cell_type": "code",
   "execution_count": null,
   "metadata": {},
   "outputs": [],
   "source": [
    "!git clone https://github.com/chocolatedesue/vits.git\n",
    "%cd vits\n",
    "!git checkout dev\n",
    "!pip install onnx.txt \n",
    "%cd monotonic_align\n",
    "!python setup.py build_ext --inplace\n"
   ]
  },
  {
   "cell_type": "code",
   "execution_count": null,
   "metadata": {},
   "outputs": [],
   "source": [
    "import utils\n",
    "hps = utils.get_hparams_from_file(\"/root/workspace/vits/logs/all_forth/all_config.json\")\n",
    "mul_ct_path = \"/root/workspace/vits/logs/all_fif/G_first.pth\"\n",
    "import torch\n",
    "device = torch.device('cuda')\n",
    "\n"
   ]
  },
  {
   "cell_type": "code",
   "execution_count": null,
   "metadata": {},
   "outputs": [],
   "source": [
    "from models import SynthesizerTrn\n",
    "from text.symbols import symbols\n",
    "net_g = SynthesizerTrn(\n",
    "    len(symbols),\n",
    "    hps.data.filter_length // 2 + 1,\n",
    "    hps.train.segment_size // hps.data.hop_length,\n",
    "    n_speakers=hps.data.n_speakers,\n",
    "    **hps.model).to(device)\n",
    "_ = net_g.eval()\n",
    "\n",
    "_ = utils.load_checkpoint(mul_ct_path, net_g, None)\n",
    "\n",
    "from text import text_to_sequence\n",
    "import commons\n",
    "\n",
    "\n",
    "def get_text(text, hps):\n",
    "    text_norm = text_to_sequence(text, hps.data.text_cleaners)\n",
    "    if hps.data.add_blank:\n",
    "        text_norm = commons.intersperse(text_norm, 0)\n",
    "    text_norm = torch.LongTensor(text_norm)\n",
    "    return text_norm"
   ]
  },
  {
   "cell_type": "code",
   "execution_count": null,
   "metadata": {},
   "outputs": [],
   "source": [
    "input = \"こにちわ、あやせです\"\n",
    "dummy_input = get_text(input,hps)\n",
    "print (type(dummy_input),dummy_input,sep='\\n')"
   ]
  },
  {
   "cell_type": "code",
   "execution_count": null,
   "metadata": {},
   "outputs": [],
   "source": [
    "torch.onnx.export(net_g, dummy_input, \"net_g.onnx\", verbose=True,export_params=True, opset_version=14)"
   ]
  }
 ],
 "metadata": {
  "kernelspec": {
   "display_name": "Python 3.9.12 ('dl')",
   "language": "python",
   "name": "python3"
  },
  "language_info": {
   "name": "python",
   "version": "3.9.12"
  },
  "orig_nbformat": 4,
  "vscode": {
   "interpreter": {
    "hash": "36173d10faf7d853e1bad29e975fc9b7dbc23de4adec914723a31635a35d6104"
   }
  }
 },
 "nbformat": 4,
 "nbformat_minor": 2
}
